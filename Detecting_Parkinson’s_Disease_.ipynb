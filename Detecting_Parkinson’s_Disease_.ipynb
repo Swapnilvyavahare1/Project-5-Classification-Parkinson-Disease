{
 "cells": [
  {
   "cell_type": "markdown",
   "metadata": {
    "id": "-wUx_zPCgSn7"
   },
   "source": [
    "**Abstract**\n",
    "\n",
    "Parkinson's disease is a progressive central nervous system condition that affects movement and causes tremors and stiffness.\n",
    "\n",
    "It has 5 stages to it and an estimated seven to 10 million people worldwide have Parkinson’s disease. \n",
    "\n",
    "This is chronic and still has no cure. It is a neurodegenerative disease that affects the neurons in the brain that contain dopamine.\n"
   ]
  },
  {
   "cell_type": "markdown",
   "metadata": {
    "id": "IWBO_eW0rh-d"
   },
   "source": [
    "Details About the Data Set\n",
    "\n",
    "The dataset was created by Max Little of the University of Oxford, in\n",
    "collaboration with the National Centre for Voice and Speech, Denver,\n",
    "Colorado, who recorded the speech signals. \n",
    "\n",
    "The original study published the\n",
    "feature extraction methods for general voice disorders."
   ]
  },
  {
   "cell_type": "markdown",
   "metadata": {
    "id": "eCfUrRijiPVK"
   },
   "source": [
    "Number of Instances: 195\n",
    "\n",
    "Area: Life\n",
    "\n",
    "Attribute Characteristics: Real\n",
    "\n",
    "Number of Attributes: 23\n",
    "\n",
    "Date Donated: 2008-06-26\n",
    "\n",
    "Associated Tasks: Classification\n",
    "\n",
    "Missing Values? N/A\n",
    "\n",
    "File Size: 39.7 KB\n",
    "\n"
   ]
  },
  {
   "cell_type": "markdown",
   "metadata": {
    "id": "s4xqwb9isHMU"
   },
   "source": [
    "Attribute Information:\n",
    "\n",
    "Matrix column entries (attributes):\n",
    "\n",
    "***name*** - ASCII subject name and recording number\n",
    "\n",
    "***MDVP:Fo(Hz) ***- Average vocal fundamental frequency\n",
    "\n",
    "***MDVP:Fhi(Hz)*** - Maximum vocal fundamental frequency\n",
    "\n",
    "***MDVP:Flo(Hz)*** - Minimum vocal fundamental frequency\n",
    "\n",
    "***MDVP:Jitter(%),MDVP:Jitter(Abs),MDVP:RAP,MDVP:PPQ,Jitter:DDP*** - Several measures of variation in fundamental frequency\n",
    "\n",
    "***MDVP:Shimmer,MDVP:Shimmer(dB),Shimmer:APQ3,Shimmer:APQ5,MDVP:APQ,Shimmer:DDA*** - Several measures of variation in amplitude\n",
    "\n",
    "***NHR,HNR ***- Two measures of ratio of noise to tonal components in the voice\n",
    "\n",
    "**status** - Health status of the subject (one) - Parkinson's, (zero) - healthy\n",
    "\n",
    "***RPDE,D2*** - Two nonlinear dynamical complexity measures\n",
    "\n",
    "***DFA*** - Signal fractal scaling exponent\n",
    "\n",
    "***spread1,spread2,PPE*** - Three nonlinear measures of fundamental frequency variation\n",
    "\n",
    "Please refer to the below link for more details on Computing the fundamental frequency variation spectrum in conversational spoken dialog system.\n",
    "\n",
    "http://www.cs.cmu.edu/~kornel/pubs/003228.pdf"
   ]
  }
 ],
 "metadata": {
  "colab": {
   "collapsed_sections": [],
   "name": "Detecting_Parkinson’s_Disease_.ipynb",
   "provenance": []
  },
  "kernelspec": {
   "display_name": "Python 3 (ipykernel)",
   "language": "python",
   "name": "python3"
  },
  "language_info": {
   "codemirror_mode": {
    "name": "ipython",
    "version": 3
   },
   "file_extension": ".py",
   "mimetype": "text/x-python",
   "name": "python",
   "nbconvert_exporter": "python",
   "pygments_lexer": "ipython3",
   "version": "3.9.12"
  }
 },
 "nbformat": 4,
 "nbformat_minor": 1
}
